{
  "nbformat": 4,
  "nbformat_minor": 0,
  "metadata": {
    "colab": {
      "provenance": [],
      "authorship_tag": "ABX9TyOaYPTeagEELjUJY+aanMuz",
      "include_colab_link": true
    },
    "kernelspec": {
      "name": "python3",
      "display_name": "Python 3"
    },
    "language_info": {
      "name": "python"
    }
  },
  "cells": [
    {
      "cell_type": "markdown",
      "metadata": {
        "id": "view-in-github",
        "colab_type": "text"
      },
      "source": [
        "<a href=\"https://colab.research.google.com/github/Loris997/Assignments-Loris-Widmer/blob/main/Exam_digital_Organization.ipynb\" target=\"_parent\"><img src=\"https://colab.research.google.com/assets/colab-badge.svg\" alt=\"Open In Colab\"/></a>"
      ]
    },
    {
      "cell_type": "markdown",
      "source": [
        "## **VU Digital Organization final Exam**\n",
        "\n",
        "Loris Widmer"
      ],
      "metadata": {
        "id": "XqIXdOBaNLUS"
      }
    },
    {
      "cell_type": "code",
      "execution_count": 31,
      "metadata": {
        "id": "WpvM5BuS5Ln6"
      },
      "outputs": [],
      "source": [
        "#I imported all kinds of libraries to be sure:)\n",
        "\n",
        "import pandas as pd\n",
        "from sklearn.linear_model import LogisticRegression\n",
        "from sklearn.compose import ColumnTransformer\n",
        "from sklearn.impute import SimpleImputer\n",
        "from sklearn.preprocessing import FunctionTransformer\n",
        "from sklearn.preprocessing import StandardScaler\n",
        "from sklearn.pipeline import make_pipeline\n",
        "from sklearn import set_config\n",
        "import numpy as np\n",
        "import matplotlib.pyplot as plt\n",
        "import statsmodels.api as sm\n",
        "\n",
        "#Optional imports for Oversampling and LMER-Integration\n",
        "#from imblearn.over_sampling import SMOTE\n",
        "set_config(transform_output=\"pandas\")\n",
        "\n",
        "from google.colab import drive\n",
        "from google.colab import data_table\n",
        "\n",
        "\n"
      ]
    },
    {
      "cell_type": "code",
      "source": [
        "drive.mount('/content/drive')\n",
        "data = pd.read_csv(\"/content/drive/My Drive/VU/Holcim_Data.csv\")\n"
      ],
      "metadata": {
        "id": "Q-FMxK2eYvPN",
        "colab": {
          "base_uri": "https://localhost:8080/"
        },
        "outputId": "b8ac89aa-2187-4035-97cc-a679f99ca90e"
      },
      "execution_count": 22,
      "outputs": [
        {
          "output_type": "stream",
          "name": "stdout",
          "text": [
            "Drive already mounted at /content/drive; to attempt to forcibly remount, call drive.mount(\"/content/drive\", force_remount=True).\n"
          ]
        },
        {
          "output_type": "stream",
          "name": "stderr",
          "text": [
            "<ipython-input-22-5a43e7aa3786>:2: DtypeWarning: Columns (0,10,11,12) have mixed types. Specify dtype option on import or set low_memory=False.\n",
            "  data = pd.read_csv(\"/content/drive/My Drive/VU/Holcim_Data.csv\")\n"
          ]
        }
      ]
    },
    {
      "cell_type": "code",
      "source": [
        "data.head()"
      ],
      "metadata": {
        "colab": {
          "base_uri": "https://localhost:8080/",
          "height": 300
        },
        "id": "3eunw3zrzIyl",
        "outputId": "99a7aca9-f303-416a-d9fd-b886b8e1bf1e"
      },
      "execution_count": 8,
      "outputs": [
        {
          "output_type": "execute_result",
          "data": {
            "text/plain": [
              "  na_gl  global_company_key  data_date  data_year_fiscal  \\\n",
              "0   NaN                1023     311287              1987   \n",
              "1   NaN                1048     311287              1987   \n",
              "2   NaN                1048     311288              1988   \n",
              "3   NaN                1048     311289              1989   \n",
              "4   NaN                1048     311290              1990   \n",
              "\n",
              "   fiscal_year_end_month    gck_date industry_format  \\\n",
              "0                   12.0  1023311287            INDL   \n",
              "1                   12.0  1048311287            INDL   \n",
              "2                   12.0  1048311288            INDL   \n",
              "3                   12.0  1048311289            INDL   \n",
              "4                   12.0  1048311290            INDL   \n",
              "\n",
              "  level_of_consolidation_company_annual_descriptor population_source  \\\n",
              "0                                                C                 D   \n",
              "1                                                C                 D   \n",
              "2                                                C                 D   \n",
              "3                                                C                 D   \n",
              "4                                                C                 D   \n",
              "\n",
              "  data_format  ... cik_number active_inactive_status_marker  \\\n",
              "0         STD  ...     2844.0                             I   \n",
              "1         STD  ...    65695.0                             I   \n",
              "2         STD  ...    65695.0                             I   \n",
              "3         STD  ...    65695.0                             I   \n",
              "4         STD  ...    65695.0                             I   \n",
              "\n",
              "  current_iso_country_code_incorporation          city company_legal_name  \\\n",
              "0                                    USA  Mountainside  AGS Computers Inc   \n",
              "1                                    USA       Houston    ANR Pipeline Co   \n",
              "2                                    USA       Houston    ANR Pipeline Co   \n",
              "3                                    USA       Houston    ANR Pipeline Co   \n",
              "4                                    USA       Houston    ANR Pipeline Co   \n",
              "\n",
              "   north_american_industry_classification_code  \\\n",
              "0                                     421430.0   \n",
              "1                                     486210.0   \n",
              "2                                     486210.0   \n",
              "3                                     486210.0   \n",
              "4                                     486210.0   \n",
              "\n",
              "   standard_industry_classification_code  state_province  \\\n",
              "0                                 5045.0              NJ   \n",
              "1                                 4922.0              TX   \n",
              "2                                 4922.0              TX   \n",
              "3                                 4922.0              TX   \n",
              "4                                 4922.0              TX   \n",
              "\n",
              "   current_iso_country_code_headquarters       fcf  \n",
              "0                                    USA  0.027071  \n",
              "1                                    USA       NaN  \n",
              "2                                    USA  0.184139  \n",
              "3                                    USA  0.048957  \n",
              "4                                    USA  0.107859  \n",
              "\n",
              "[5 rows x 39 columns]"
            ],
            "text/html": [
              "\n",
              "  <div id=\"df-49b700cd-2f5e-4165-84d3-505bc7b3037d\">\n",
              "    <div class=\"colab-df-container\">\n",
              "      <div>\n",
              "<style scoped>\n",
              "    .dataframe tbody tr th:only-of-type {\n",
              "        vertical-align: middle;\n",
              "    }\n",
              "\n",
              "    .dataframe tbody tr th {\n",
              "        vertical-align: top;\n",
              "    }\n",
              "\n",
              "    .dataframe thead th {\n",
              "        text-align: right;\n",
              "    }\n",
              "</style>\n",
              "<table border=\"1\" class=\"dataframe\">\n",
              "  <thead>\n",
              "    <tr style=\"text-align: right;\">\n",
              "      <th></th>\n",
              "      <th>na_gl</th>\n",
              "      <th>global_company_key</th>\n",
              "      <th>data_date</th>\n",
              "      <th>data_year_fiscal</th>\n",
              "      <th>fiscal_year_end_month</th>\n",
              "      <th>gck_date</th>\n",
              "      <th>industry_format</th>\n",
              "      <th>level_of_consolidation_company_annual_descriptor</th>\n",
              "      <th>population_source</th>\n",
              "      <th>data_format</th>\n",
              "      <th>...</th>\n",
              "      <th>cik_number</th>\n",
              "      <th>active_inactive_status_marker</th>\n",
              "      <th>current_iso_country_code_incorporation</th>\n",
              "      <th>city</th>\n",
              "      <th>company_legal_name</th>\n",
              "      <th>north_american_industry_classification_code</th>\n",
              "      <th>standard_industry_classification_code</th>\n",
              "      <th>state_province</th>\n",
              "      <th>current_iso_country_code_headquarters</th>\n",
              "      <th>fcf</th>\n",
              "    </tr>\n",
              "  </thead>\n",
              "  <tbody>\n",
              "    <tr>\n",
              "      <th>0</th>\n",
              "      <td>NaN</td>\n",
              "      <td>1023</td>\n",
              "      <td>311287</td>\n",
              "      <td>1987</td>\n",
              "      <td>12.0</td>\n",
              "      <td>1023311287</td>\n",
              "      <td>INDL</td>\n",
              "      <td>C</td>\n",
              "      <td>D</td>\n",
              "      <td>STD</td>\n",
              "      <td>...</td>\n",
              "      <td>2844.0</td>\n",
              "      <td>I</td>\n",
              "      <td>USA</td>\n",
              "      <td>Mountainside</td>\n",
              "      <td>AGS Computers Inc</td>\n",
              "      <td>421430.0</td>\n",
              "      <td>5045.0</td>\n",
              "      <td>NJ</td>\n",
              "      <td>USA</td>\n",
              "      <td>0.027071</td>\n",
              "    </tr>\n",
              "    <tr>\n",
              "      <th>1</th>\n",
              "      <td>NaN</td>\n",
              "      <td>1048</td>\n",
              "      <td>311287</td>\n",
              "      <td>1987</td>\n",
              "      <td>12.0</td>\n",
              "      <td>1048311287</td>\n",
              "      <td>INDL</td>\n",
              "      <td>C</td>\n",
              "      <td>D</td>\n",
              "      <td>STD</td>\n",
              "      <td>...</td>\n",
              "      <td>65695.0</td>\n",
              "      <td>I</td>\n",
              "      <td>USA</td>\n",
              "      <td>Houston</td>\n",
              "      <td>ANR Pipeline Co</td>\n",
              "      <td>486210.0</td>\n",
              "      <td>4922.0</td>\n",
              "      <td>TX</td>\n",
              "      <td>USA</td>\n",
              "      <td>NaN</td>\n",
              "    </tr>\n",
              "    <tr>\n",
              "      <th>2</th>\n",
              "      <td>NaN</td>\n",
              "      <td>1048</td>\n",
              "      <td>311288</td>\n",
              "      <td>1988</td>\n",
              "      <td>12.0</td>\n",
              "      <td>1048311288</td>\n",
              "      <td>INDL</td>\n",
              "      <td>C</td>\n",
              "      <td>D</td>\n",
              "      <td>STD</td>\n",
              "      <td>...</td>\n",
              "      <td>65695.0</td>\n",
              "      <td>I</td>\n",
              "      <td>USA</td>\n",
              "      <td>Houston</td>\n",
              "      <td>ANR Pipeline Co</td>\n",
              "      <td>486210.0</td>\n",
              "      <td>4922.0</td>\n",
              "      <td>TX</td>\n",
              "      <td>USA</td>\n",
              "      <td>0.184139</td>\n",
              "    </tr>\n",
              "    <tr>\n",
              "      <th>3</th>\n",
              "      <td>NaN</td>\n",
              "      <td>1048</td>\n",
              "      <td>311289</td>\n",
              "      <td>1989</td>\n",
              "      <td>12.0</td>\n",
              "      <td>1048311289</td>\n",
              "      <td>INDL</td>\n",
              "      <td>C</td>\n",
              "      <td>D</td>\n",
              "      <td>STD</td>\n",
              "      <td>...</td>\n",
              "      <td>65695.0</td>\n",
              "      <td>I</td>\n",
              "      <td>USA</td>\n",
              "      <td>Houston</td>\n",
              "      <td>ANR Pipeline Co</td>\n",
              "      <td>486210.0</td>\n",
              "      <td>4922.0</td>\n",
              "      <td>TX</td>\n",
              "      <td>USA</td>\n",
              "      <td>0.048957</td>\n",
              "    </tr>\n",
              "    <tr>\n",
              "      <th>4</th>\n",
              "      <td>NaN</td>\n",
              "      <td>1048</td>\n",
              "      <td>311290</td>\n",
              "      <td>1990</td>\n",
              "      <td>12.0</td>\n",
              "      <td>1048311290</td>\n",
              "      <td>INDL</td>\n",
              "      <td>C</td>\n",
              "      <td>D</td>\n",
              "      <td>STD</td>\n",
              "      <td>...</td>\n",
              "      <td>65695.0</td>\n",
              "      <td>I</td>\n",
              "      <td>USA</td>\n",
              "      <td>Houston</td>\n",
              "      <td>ANR Pipeline Co</td>\n",
              "      <td>486210.0</td>\n",
              "      <td>4922.0</td>\n",
              "      <td>TX</td>\n",
              "      <td>USA</td>\n",
              "      <td>0.107859</td>\n",
              "    </tr>\n",
              "  </tbody>\n",
              "</table>\n",
              "<p>5 rows × 39 columns</p>\n",
              "</div>\n",
              "      <button class=\"colab-df-convert\" onclick=\"convertToInteractive('df-49b700cd-2f5e-4165-84d3-505bc7b3037d')\"\n",
              "              title=\"Convert this dataframe to an interactive table.\"\n",
              "              style=\"display:none;\">\n",
              "        \n",
              "  <svg xmlns=\"http://www.w3.org/2000/svg\" height=\"24px\"viewBox=\"0 0 24 24\"\n",
              "       width=\"24px\">\n",
              "    <path d=\"M0 0h24v24H0V0z\" fill=\"none\"/>\n",
              "    <path d=\"M18.56 5.44l.94 2.06.94-2.06 2.06-.94-2.06-.94-.94-2.06-.94 2.06-2.06.94zm-11 1L8.5 8.5l.94-2.06 2.06-.94-2.06-.94L8.5 2.5l-.94 2.06-2.06.94zm10 10l.94 2.06.94-2.06 2.06-.94-2.06-.94-.94-2.06-.94 2.06-2.06.94z\"/><path d=\"M17.41 7.96l-1.37-1.37c-.4-.4-.92-.59-1.43-.59-.52 0-1.04.2-1.43.59L10.3 9.45l-7.72 7.72c-.78.78-.78 2.05 0 2.83L4 21.41c.39.39.9.59 1.41.59.51 0 1.02-.2 1.41-.59l7.78-7.78 2.81-2.81c.8-.78.8-2.07 0-2.86zM5.41 20L4 18.59l7.72-7.72 1.47 1.35L5.41 20z\"/>\n",
              "  </svg>\n",
              "      </button>\n",
              "      \n",
              "  <style>\n",
              "    .colab-df-container {\n",
              "      display:flex;\n",
              "      flex-wrap:wrap;\n",
              "      gap: 12px;\n",
              "    }\n",
              "\n",
              "    .colab-df-convert {\n",
              "      background-color: #E8F0FE;\n",
              "      border: none;\n",
              "      border-radius: 50%;\n",
              "      cursor: pointer;\n",
              "      display: none;\n",
              "      fill: #1967D2;\n",
              "      height: 32px;\n",
              "      padding: 0 0 0 0;\n",
              "      width: 32px;\n",
              "    }\n",
              "\n",
              "    .colab-df-convert:hover {\n",
              "      background-color: #E2EBFA;\n",
              "      box-shadow: 0px 1px 2px rgba(60, 64, 67, 0.3), 0px 1px 3px 1px rgba(60, 64, 67, 0.15);\n",
              "      fill: #174EA6;\n",
              "    }\n",
              "\n",
              "    [theme=dark] .colab-df-convert {\n",
              "      background-color: #3B4455;\n",
              "      fill: #D2E3FC;\n",
              "    }\n",
              "\n",
              "    [theme=dark] .colab-df-convert:hover {\n",
              "      background-color: #434B5C;\n",
              "      box-shadow: 0px 1px 3px 1px rgba(0, 0, 0, 0.15);\n",
              "      filter: drop-shadow(0px 1px 2px rgba(0, 0, 0, 0.3));\n",
              "      fill: #FFFFFF;\n",
              "    }\n",
              "  </style>\n",
              "\n",
              "      <script>\n",
              "        const buttonEl =\n",
              "          document.querySelector('#df-49b700cd-2f5e-4165-84d3-505bc7b3037d button.colab-df-convert');\n",
              "        buttonEl.style.display =\n",
              "          google.colab.kernel.accessAllowed ? 'block' : 'none';\n",
              "\n",
              "        async function convertToInteractive(key) {\n",
              "          const element = document.querySelector('#df-49b700cd-2f5e-4165-84d3-505bc7b3037d');\n",
              "          const dataTable =\n",
              "            await google.colab.kernel.invokeFunction('convertToInteractive',\n",
              "                                                     [key], {});\n",
              "          if (!dataTable) return;\n",
              "\n",
              "          const docLinkHtml = 'Like what you see? Visit the ' +\n",
              "            '<a target=\"_blank\" href=https://colab.research.google.com/notebooks/data_table.ipynb>data table notebook</a>'\n",
              "            + ' to learn more about interactive tables.';\n",
              "          element.innerHTML = '';\n",
              "          dataTable['output_type'] = 'display_data';\n",
              "          await google.colab.output.renderOutput(dataTable, element);\n",
              "          const docLink = document.createElement('div');\n",
              "          docLink.innerHTML = docLinkHtml;\n",
              "          element.appendChild(docLink);\n",
              "        }\n",
              "      </script>\n",
              "    </div>\n",
              "  </div>\n",
              "  "
            ]
          },
          "metadata": {},
          "execution_count": 8
        }
      ]
    },
    {
      "cell_type": "code",
      "source": [
        "print(data.columns)"
      ],
      "metadata": {
        "colab": {
          "base_uri": "https://localhost:8080/"
        },
        "id": "oESPYbGw0dWE",
        "outputId": "56484983-8f17-4299-b6ab-b7ce0dac82bf"
      },
      "execution_count": 9,
      "outputs": [
        {
          "output_type": "stream",
          "name": "stdout",
          "text": [
            "Index(['na_gl', 'global_company_key', 'data_date', 'data_year_fiscal',\n",
            "       'fiscal_year_end_month', 'gck_date', 'industry_format',\n",
            "       'level_of_consolidation_company_annual_descriptor', 'population_source',\n",
            "       'data_format', 'ticker_symbol', 'cusip',\n",
            "       'international_security_identification_number', 'company_name',\n",
            "       'iso_currency_code', 'assets_total', 'dividends_common_ordinary',\n",
            "       'dividends_preferred_preference', 'earnings_before_interest_and_taxes',\n",
            "       'earnings_before_interest', 'employees',\n",
            "       'operating_activities_net_cash_flow', 'revenue_total',\n",
            "       'sales_turnover_net', 'stockholders_equity_total',\n",
            "       'operating_expenses_total', 'research_and_development_expense',\n",
            "       'selling_general_and_administrative_expense', 'stock_exchange_code',\n",
            "       'cik_number', 'active_inactive_status_marker',\n",
            "       'current_iso_country_code_incorporation', 'city', 'company_legal_name',\n",
            "       'north_american_industry_classification_code',\n",
            "       'standard_industry_classification_code', 'state_province',\n",
            "       'current_iso_country_code_headquarters', 'fcf'],\n",
            "      dtype='object')\n"
          ]
        }
      ]
    },
    {
      "cell_type": "markdown",
      "source": [
        "#**Exercise 1**\n",
        "\n",
        "The following two variables are important:\n",
        "stockholders_equity_total: This variables shows the total equity held by the companys shareholders. If this is declining it can indicate a decrease in the companys net worth and financial stability. Since the data is from the last 15-20 years this variable can provide insights of the companys capital structure, profitability and ability to generate shareholder value. By examining other variables which contribute to the decline in stockholders equity it is possible to identfy potential areas of concern and suggest strategies.\n",
        "operating_expenses_total: This variable represetns the total operating expenses by the company. If they are rising it can negatively impact profitability and overall company performance. Analyzing the trend of this variable can help identify cost drivers, efficiency issues, or areas of overspending. If the variable is understood it is possible to identify areas where cost optimization or process improvements can be implemented. Furthermore it is possible to compare the expenses with other companies and provide benchmarks for cost management efficiency.\n"
      ],
      "metadata": {
        "id": "vOiNDbw60rxf"
      }
    },
    {
      "cell_type": "markdown",
      "source": [
        "I will now remove columns and clean the data\n"
      ],
      "metadata": {
        "id": "fY-m3uOD4RyL"
      }
    },
    {
      "cell_type": "code",
      "source": [
        "# remove columns\n",
        "data = data.drop(['level_of_consolidation_company_annual_descriptor', 'international_security_identification_number'], axis=1)"
      ],
      "metadata": {
        "id": "koLflw1N3p_T"
      },
      "execution_count": 23,
      "outputs": []
    },
    {
      "cell_type": "markdown",
      "source": [
        "Foe example level_of_consolidation_company_annual_descriptor has the same value for all rows, so it doesnt make sense to keep them. Other columns just dont have an impact for the case study."
      ],
      "metadata": {
        "id": "lqeafX2G5rNd"
      }
    },
    {
      "cell_type": "code",
      "source": [
        "#replace NA values in operating_activities_net_cash_flow column with 0\n",
        "data['operating_activities_net_cash_flow'].fillna(0, inplace=True)"
      ],
      "metadata": {
        "id": "NYsJZGRB49Ok"
      },
      "execution_count": 24,
      "outputs": []
    },
    {
      "cell_type": "code",
      "source": [
        "#same thing with stockholders_equity_total\n",
        "data['stockholders_equity_total'].fillna(0, inplace=True)"
      ],
      "metadata": {
        "id": "JwZDKl-J5VVc"
      },
      "execution_count": 25,
      "outputs": []
    },
    {
      "cell_type": "markdown",
      "source": [
        "The NA values have to be replaced to have a consistent cariable typ in the column. By replacing them by 0 it is assumed that no net cash flow was there."
      ],
      "metadata": {
        "id": "GhjAH8RB514D"
      }
    },
    {
      "cell_type": "markdown",
      "source": [
        "#**Exercise 2**\n"
      ],
      "metadata": {
        "id": "96tL4Q376Djw"
      }
    },
    {
      "cell_type": "code",
      "source": [
        "#take the year 2004\n",
        "data_2004 = data[data['data_year_fiscal'] == 2004]\n",
        "\n",
        "#creating the dummy variable\n",
        "data_2004['industry_dummy'] = (data_2004['industry_format'] == 'Cement').astype(int)\n",
        "\n",
        "#define columns which are included in the model\n",
        "columns_to_include = ['earnings_before_interest_and_taxes', 'industry_dummy', 'assets_total', 'employees', 'operating_activities_net_cash_flow', 'revenue_total', 'stockholders_equity_total' ]\n",
        "data_filtered = data_2004[columns_to_include].dropna()\n",
        "\n",
        "#linear regression model\n",
        "X = data_filtered[['industry_dummy', 'assets_total', 'employees', 'operating_activities_net_cash_flow', 'revenue_total', 'stockholders_equity_total']]\n",
        "y = data_filtered['earnings_before_interest_and_taxes']\n",
        "\n",
        "\n",
        "X = sm.add_constant(X)\n",
        "model = sm.OLS(y, X).fit()\n",
        "\n",
        "#print summary\n",
        "print(model.summary())"
      ],
      "metadata": {
        "colab": {
          "base_uri": "https://localhost:8080/"
        },
        "id": "ghKOFEET6xzL",
        "outputId": "718389b0-d0df-4b2c-c045-88f01cf2a88a"
      },
      "execution_count": 29,
      "outputs": [
        {
          "output_type": "stream",
          "name": "stdout",
          "text": [
            "                                    OLS Regression Results                                    \n",
            "==============================================================================================\n",
            "Dep. Variable:     earnings_before_interest_and_taxes   R-squared:                       0.918\n",
            "Model:                                            OLS   Adj. R-squared:                  0.917\n",
            "Method:                                 Least Squares   F-statistic:                     2695.\n",
            "Date:                                Mon, 26 Jun 2023   Prob (F-statistic):               0.00\n",
            "Time:                                        13:42:11   Log-Likelihood:                -12776.\n",
            "No. Observations:                                1215   AIC:                         2.556e+04\n",
            "Df Residuals:                                    1209   BIC:                         2.559e+04\n",
            "Df Model:                                           5                                         \n",
            "Covariance Type:                            nonrobust                                         \n",
            "======================================================================================================\n",
            "                                         coef    std err          t      P>|t|      [0.025      0.975]\n",
            "------------------------------------------------------------------------------------------------------\n",
            "const                                 13.5910    267.384      0.051      0.959    -510.997     538.179\n",
            "industry_dummy                     -8.974e-11   1.77e-09     -0.051      0.960   -3.56e-09    3.38e-09\n",
            "assets_total                          -0.0233      0.003     -8.479      0.000      -0.029      -0.018\n",
            "employees                            -18.4648      9.602     -1.923      0.055     -37.303       0.373\n",
            "operating_activities_net_cash_flow     1.0972      0.020     54.843      0.000       1.058       1.136\n",
            "revenue_total                          0.0188      0.003      7.039      0.000       0.014       0.024\n",
            "stockholders_equity_total              0.1207      0.079      1.535      0.125      -0.034       0.275\n",
            "==============================================================================\n",
            "Omnibus:                     1080.028   Durbin-Watson:                   1.871\n",
            "Prob(Omnibus):                  0.000   Jarque-Bera (JB):           604305.246\n",
            "Skew:                          -3.053   Prob(JB):                         0.00\n",
            "Kurtosis:                     112.085   Cond. No.                     8.37e+16\n",
            "==============================================================================\n",
            "\n",
            "Notes:\n",
            "[1] Standard Errors assume that the covariance matrix of the errors is correctly specified.\n",
            "[2] The smallest eigenvalue is 2.39e-20. This might indicate that there are\n",
            "strong multicollinearity problems or that the design matrix is singular.\n"
          ]
        },
        {
          "output_type": "stream",
          "name": "stderr",
          "text": [
            "<ipython-input-29-ffd0649c7518>:5: SettingWithCopyWarning: \n",
            "A value is trying to be set on a copy of a slice from a DataFrame.\n",
            "Try using .loc[row_indexer,col_indexer] = value instead\n",
            "\n",
            "See the caveats in the documentation: https://pandas.pydata.org/pandas-docs/stable/user_guide/indexing.html#returning-a-view-versus-a-copy\n",
            "  data_2004['industry_dummy'] = (data_2004['industry_format'] == 'Cement').astype(int)\n"
          ]
        }
      ]
    },
    {
      "cell_type": "markdown",
      "source": [
        "I first filter the data to the year 2004. Then I created the dummy variable industry_dummy, with the help of the variable industry_format, setting the value to 1 if it is in the cement industry, 0 if it is not.\n",
        "\n",
        "Then I selected the relevant columns for the model, including EBIT: 'earnings_before_interest_and_taxes', 'industry_dummy', 'assets_total', 'employees', 'operating_activities_net_cash_flow', 'revenue_total', 'stockholders_equity_total'. I think these variables all have an impact on EBIT and thereofre it makes sense to incluide them into the model.\n",
        "Alltough I cleaned the data befor, I made sure that the columns work and dropped any columns with a NA(missing values) values.\n",
        "\n",
        "I then used the statsmodels.api library to perform a linear regression. With the help of add_constant() I added the intercept. With OLS() the model was fitted and fit() calculates the parameters.\n",
        "\n",
        "Finally I printed the summary of the model.\n",
        "\n",
        "\n"
      ],
      "metadata": {
        "id": "HWAewczU8c8f"
      }
    },
    {
      "cell_type": "markdown",
      "source": [
        "**Interpretation of the output**\n",
        "\n",
        "The R-squared value measurees the variance in the dependent variable EBIT. This can be explained by the independent variables from the model. Our R-square value is 0.918, which indicates that 91.8% of the variability in EBIT can be explained by the independant variables.\n",
        "\n",
        "The adjusted R-squared variable takes the number of independent variables and sample size into account. In our model the value is 0.917 which is very close to the R-squared value which indicates that our model is not overfitting.\n",
        "\n",
        "Coefficients of independent variables:\n",
        "\n",
        "\n",
        "*   assets_total: -0.0233\n",
        "*   employees: -18.4648\n",
        "- operating_activities_net_cash_flow: 1.0972\n",
        "- revenue_total: 0.0188\n",
        "- stockholders_equity_total: 0.1207\n",
        "\n",
        "The coefficients can be interpretes as followed: if all other variables are held constant, the increase of the variable with one unit will change the EBIT with the callculated value.\n",
        "\n",
        "The p-value of the variables indicates if the cariable has an statistical impact on the EBIT. In our model assets_total, operating_activities_net_cash_flow and revenue_total have an p-value < 0.05. This indicates thet these variables have an statistical impact. While stockholders_equity_total and industry_dummy have a value of >0.05.\n",
        "\n",
        "\n",
        "The omnibus and JB test indicate that there is no normal distribution present. This can be the case because of outliers or nonlinearity in the relationship.\n"
      ],
      "metadata": {
        "id": "oh3i25XJ99Sb"
      }
    },
    {
      "cell_type": "markdown",
      "source": [
        "# **Exercise 3**\n"
      ],
      "metadata": {
        "id": "bwQzwBeMAbf7"
      }
    },
    {
      "cell_type": "code",
      "source": [
        "#focus on data from 2000+\n",
        "data_from_2000 = data[data['data_year_fiscal'] >= 2000]\n",
        "\n",
        "# Dummy variable\n",
        "data_from_2000['industry_dummy'] = (data_from_2000['industry_format'] == 'Cement').astype(int)\n",
        "\n",
        "# columns in the model\n",
        "columns_to_include = ['earnings_before_interest_and_taxes', 'industry_dummy', 'assets_total', 'employees', 'operating_activities_net_cash_flow', 'revenue_total', 'stockholders_equity_total']\n",
        "data_filtered = data_from_2000[columns_to_include].dropna()\n",
        "\n",
        "# Linear regression model\n",
        "X = data_filtered[['industry_dummy', 'assets_total', 'employees', 'operating_activities_net_cash_flow', 'revenue_total', 'stockholders_equity_total']]\n",
        "y = data_filtered['earnings_before_interest_and_taxes']\n",
        "\n",
        "\n",
        "X = sm.add_constant(X)\n",
        "model = sm.OLS(y, X).fit()\n",
        "\n",
        "# Print summary\n",
        "print(model.summary())\n"
      ],
      "metadata": {
        "colab": {
          "base_uri": "https://localhost:8080/"
        },
        "id": "C2lAt17oAbFr",
        "outputId": "1b328715-ff12-460f-a10e-4cda0be3c9d7"
      },
      "execution_count": 30,
      "outputs": [
        {
          "output_type": "stream",
          "name": "stdout",
          "text": [
            "                                    OLS Regression Results                                    \n",
            "==============================================================================================\n",
            "Dep. Variable:     earnings_before_interest_and_taxes   R-squared:                       0.869\n",
            "Model:                                            OLS   Adj. R-squared:                  0.869\n",
            "Method:                                 Least Squares   F-statistic:                 3.315e+04\n",
            "Date:                                Mon, 26 Jun 2023   Prob (F-statistic):               0.00\n",
            "Time:                                        14:07:36   Log-Likelihood:            -3.2118e+05\n",
            "No. Observations:                               25023   AIC:                         6.424e+05\n",
            "Df Residuals:                                   25017   BIC:                         6.424e+05\n",
            "Df Model:                                           5                                         \n",
            "Covariance Type:                            nonrobust                                         \n",
            "======================================================================================================\n",
            "                                         coef    std err          t      P>|t|      [0.025      0.975]\n",
            "------------------------------------------------------------------------------------------------------\n",
            "const                              -1595.1751    591.276     -2.698      0.007   -2754.112    -436.239\n",
            "industry_dummy                     -1.469e-08   5.44e-09     -2.699      0.007   -2.54e-08   -4.02e-09\n",
            "assets_total                           0.0745      0.001    135.926      0.000       0.073       0.076\n",
            "employees                            -85.3551     20.699     -4.124      0.000    -125.927     -44.784\n",
            "operating_activities_net_cash_flow    -0.1372      0.005    -29.124      0.000      -0.146      -0.128\n",
            "revenue_total                          0.0378      0.000     84.259      0.000       0.037       0.039\n",
            "stockholders_equity_total              0.0189      0.001     13.789      0.000       0.016       0.022\n",
            "==============================================================================\n",
            "Omnibus:                    33101.282   Durbin-Watson:                   0.571\n",
            "Prob(Omnibus):                  0.000   Jarque-Bera (JB):       2115035510.390\n",
            "Skew:                           5.723   Prob(JB):                         0.00\n",
            "Kurtosis:                    1427.232   Cond. No.                     3.39e+16\n",
            "==============================================================================\n",
            "\n",
            "Notes:\n",
            "[1] Standard Errors assume that the covariance matrix of the errors is correctly specified.\n",
            "[2] The smallest eigenvalue is 2.09e-16. This might indicate that there are\n",
            "strong multicollinearity problems or that the design matrix is singular.\n"
          ]
        },
        {
          "output_type": "stream",
          "name": "stderr",
          "text": [
            "<ipython-input-30-28106ab90918>:5: SettingWithCopyWarning: \n",
            "A value is trying to be set on a copy of a slice from a DataFrame.\n",
            "Try using .loc[row_indexer,col_indexer] = value instead\n",
            "\n",
            "See the caveats in the documentation: https://pandas.pydata.org/pandas-docs/stable/user_guide/indexing.html#returning-a-view-versus-a-copy\n",
            "  data_from_2000['industry_dummy'] = (data_from_2000['industry_format'] == 'Cement').astype(int)\n"
          ]
        }
      ]
    },
    {
      "cell_type": "markdown",
      "source": [
        "The model has one main difference: The values are now not only from the year 2004, but from the year 2000 and younger. So the dataset now includes more values and values over time. this kind of model can be more representative since it is a trend analysis. It is possible to make understand the factors better which influence the EBIT over the year.\n",
        "\n",
        "\n",
        "```\n",
        "data_from_2000 = data[data['data_year_fiscal'] >= 2000]\n",
        "```\n",
        "This is the difference in the code from the model in exercise 3.\n",
        "\n",
        "After this change we proceeded more or less the same way as in the previous exercise.\n",
        "\n",
        "**Interpretation of the output**\n",
        "\n",
        "(I will not again explain what R-square, adjusted R-square... indicate and rather just go into the value of the result(time is running)).\n",
        "\n",
        "The R-square variable has the value 0.869 while the adjusted R-square is the sam at 0.869. This shows that the included variables dont penalize the goodness fit of the model.\n",
        "\n",
        "Coefficients of independent variables:\n",
        "\n",
        "\n",
        "*   assets_total: 0.0745\n",
        "*   employees: -85.3551\n",
        "- operating_activities_net_cash_flow: -0.1372\n",
        "- revenue_total: 0.0378\n",
        "- stockholders_equity_total: 0.0189\n",
        "\n",
        "P-values\n",
        "\n",
        "All independent variables have a p-value < 0.05, which indicates that all variables are statistically significant for EBIT.\n",
        "\n",
        "The Omnibus and JB test once again indicate nonnormality in the dataset.\n",
        "\n",
        "**Comparison of the two outputs**\n",
        "\n",
        "R-square - Adjusted R-square\n",
        "2004: 0.918 - 0.917\n",
        "2000  0.869 - 0.869\n",
        "\n",
        "Both models have a high value which indicates good fits of the models. Nontheless the model of the year 2004 has a bit a higher value which means this model has a slightly better fit.\n",
        "\n",
        "Coefficients\n",
        "\n",
        "The main difference is that the industry_dummy variable has a p-value < 0.05 in the second model and therefore is statistically significant. This suggests beeing in the Cement industry has a significant impact on the EBIT over the years.\n",
        "\n",
        "All other coefficients are more or less the same in both models.\n",
        "\n"
      ],
      "metadata": {
        "id": "BvaHv7kWCBzq"
      }
    },
    {
      "cell_type": "markdown",
      "source": [
        "# **Exercise 4**\n",
        "\n",
        "The coefficient for employees in model from question 2 is -18.4648, in model from question 3 -85.3551.\n",
        "\n",
        "So if all other variables are constant, a decline of 1 employee manpower would increase the EBIT by 18.4648 (model from question 2) or 85.3551 (model from question 3).\n",
        "\n",
        "In my logical thinking it should be the other way around, if the employee is increased, the EBIT should be increased as well. It might be that after a certain timespan the coefficient would become positive.\n",
        "\n",
        "But the result is based on the assumption that the relationship between EBIT and employee is linear and all other factors in the model reamin constant. But the relationship of these two might be influenced by other factors. Additional test and more information would be needed to make a definitive conclusion."
      ],
      "metadata": {
        "id": "6G03zwyKFwyS"
      }
    },
    {
      "cell_type": "markdown",
      "source": [
        "# **Exercise 5**\n",
        "\n",
        "My general approach to solve this case was a data-driven approach. I used a linear regression model from the statsmodels.api library. The model was used to analyze the relationship between different variables and their input on EBIT  (Earnings before Interest and Taxes).\n",
        "\n",
        "I started with investigating the dataset provided on OLAT. After a brief look I started to prepare the data for the analyzing. Therefore I deleted some columns which in my opinion were useless and replaced some NAs with 0 values.\n",
        "\n",
        "After that the data was ready to be used in a linear regression model.\n",
        "The first step of the model was to filter the data on the wanted timespan (2004 or from 2000 onwards). The I created the dummy variable industry_dummy to see if a comany is in the cement industry or not.\n",
        "After that I had to decide which columns are relevant to explain the EBIT and include them into the linear regression model. These variables were then used as independent variables (predictors) and EBIT was used as dependent variable.\n",
        "\n",
        "After that the model was executed and the output was analyzed. To gain insights over the years and include a trend analysis to models were used.\n",
        "\n",
        "Assumtions for the data-driven approach:\n",
        "\n",
        "\n",
        "*   The data set is complete, accurate and representative. It reflects the relevant variables and their relationships. An analysis can only be as good as the dataset. If the dataset is super bad, then the output of the model is more or less useless.\n",
        "*   The relatinship between the independent variables and EBIT has to be linear in order to use a linear regression model.\n",
        "\n",
        "\n",
        "Limitations:\n",
        "\n",
        "\n",
        "*   The relationshps which were observed in the analysis do not necessarily indicate a causal relationship between the variables. Additional analysis would be needed.\n",
        "*   The assumtion of linearity independence was made. If these are violated the reliability of the result might be in danger.\n",
        "- The selected variables might not capture all factors influencing EBIT. It might be that an importnat variable was missed. It might be that additinal variables would have explained EBIT better.\n",
        "- A different model could result in different results.\n",
        "\n",
        "Some of these limitation can be eliminated with further tests.\n",
        "\n",
        "\n",
        "Three values which could be interesting:\n",
        "\n",
        "Market conditions: It could be of interest to see what market conditions are present. An index which represents the overal state of the industry would help.\n",
        "\n",
        "Technological advancements: It could be of interest to see a variable which reflects the technological advancements or innovation in the cement industry. This variable might include things like the adoption of new/more efficient production techniques or  technological disruptions. These might have an impact on the EBIT.\n",
        "\n",
        "Competition: The competition can have an impact on EBIT. It would help to see the mesure of competition, how many other companies are in the area. This would represent the competitive dynamics of the industry. It might as well influence the pricing of the companies.\n",
        "\n",
        "\n",
        "\n",
        "\n",
        "\n"
      ],
      "metadata": {
        "id": "1-NZO4OTIbr5"
      }
    }
  ]
}